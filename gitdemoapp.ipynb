{
 "cells": [
  {
   "cell_type": "code",
   "execution_count": 1,
   "id": "1b018f79-7fb9-485d-8f9d-53cbb9899710",
   "metadata": {},
   "outputs": [
    {
     "name": "stdout",
     "output_type": "stream",
     "text": [
      "The sum of 10 and 20 is: 30\n"
     ]
    }
   ],
   "source": [
    "# This is a simple Python code cell\n",
    "# It calculates the sum of two numbers\n",
    "\n",
    "a = 10\n",
    "b = 20\n",
    "sum_result = a + b\n",
    "\n",
    "print(\"The sum of\", a, \"and\", b, \"is:\", sum_result)\n",
    "\n",
    " \n",
    "#user2"
 
    "#user1\n",
    " \n"
 
   ]
  },
  {
   "cell_type": "code",
   "execution_count": null,
   "id": "bd747e70-2011-44c8-a256-006091d65cba",
   "metadata": {},
   "outputs": [],
   "source": []
  }
 ],
 "metadata": {
  "kernelspec": {
   "display_name": "Python 3 (ipykernel)",
   "language": "python",
   "name": "python3"
  },
  "language_info": {
   "codemirror_mode": {
    "name": "ipython",
    "version": 3
   },
   "file_extension": ".py",
   "mimetype": "text/x-python",
   "name": "python",
   "nbconvert_exporter": "python",
   "pygments_lexer": "ipython3",
   "version": "3.12.2"
  }
 },
 "nbformat": 4,
 "nbformat_minor": 5
}
